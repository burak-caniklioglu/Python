{
 "cells": [
  {
   "cell_type": "markdown",
   "metadata": {},
   "source": [
    "John has invited some friends. His list is:\n",
    "\n",
    "s = \"Fred:Corwill;Wilfred:Corwill;Barney:Tornbull;Betty:Tornbull;Bjon:Tornbull;Raphael:Corwill;Alfred:Corwill\";\n",
    "Could you make a program that\n",
    "\n",
    "makes this string uppercase\n",
    "gives it sorted in alphabetical order by last name.\n",
    "When the last names are the same, sort them by first name. Last name and first name of a guest come in the result between parentheses separated by a comma.\n",
    "\n",
    "So the result of function meeting(s) will be:\n",
    "\n",
    "\"(CORWILL, ALFRED)(CORWILL, FRED)(CORWILL, RAPHAEL)(CORWILL, WILFRED)(TORNBULL, BARNEY)(TORNBULL, BETTY)(TORNBULL, BJON)\"\n",
    "It can happen that in two distinct families with the same family name two people have the same first name too.\n",
    "\n",
    "Notes\n",
    "You can see another examples in the \"Sample tests\"."
   ]
  },
  {
   "cell_type": "code",
   "execution_count": 1,
   "metadata": {},
   "outputs": [
    {
     "data": {
      "text/plain": [
       "'(CORWILL, ALFRED)(CORWILL, FRED)(CORWILL, RAPHAEL)(CORWILL, WILFRED)(TORNBULL, BARNEY)(TORNBULL, BETTY)(TORNBULL, BJON)'"
      ]
     },
     "execution_count": 1,
     "metadata": {},
     "output_type": "execute_result"
    }
   ],
   "source": [
    "def meeting(s):\n",
    "    s = s.upper().split(\";\")\n",
    "    a =[]\n",
    "    for i in s:\n",
    "        i = i.split(\":\")\n",
    "        a.append((i[1],i[0]))\n",
    "    a.sort()\n",
    "    c = \"\"\n",
    "    for i in a:\n",
    "        i = str(i)\n",
    "        i = i.replace(\"'\", \"\")\n",
    "        c += i\n",
    "    return c\n",
    "meeting(\"Fred:Corwill;Wilfred:Corwill;Barney:Tornbull;Betty:Tornbull;Bjon:Tornbull;Raphael:Corwill;Alfred:Corwill\")"
   ]
  }
 ],
 "metadata": {
  "interpreter": {
   "hash": "42b42069cbbf0a6319a26f91c3d8a98d7fbd1c788cb6a50cdce8d66031b17e46"
  },
  "kernelspec": {
   "display_name": "Python 3.9.2rc1 64-bit (system)",
   "language": "python",
   "name": "python3"
  },
  "language_info": {
   "codemirror_mode": {
    "name": "ipython",
    "version": 3
   },
   "file_extension": ".py",
   "mimetype": "text/x-python",
   "name": "python",
   "nbconvert_exporter": "python",
   "pygments_lexer": "ipython3",
   "version": "3.9.2rc1"
  },
  "orig_nbformat": 4
 },
 "nbformat": 4,
 "nbformat_minor": 2
}
