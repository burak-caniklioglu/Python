{
 "cells": [
  {
   "cell_type": "code",
   "execution_count": 6,
   "metadata": {},
   "outputs": [
    {
     "name": "stdout",
     "output_type": "stream",
     "text": [
      "333667 is a Prime Number\n"
     ]
    }
   ],
   "source": [
    "\n",
    "n = int(input(\"Enter a positive number to check if it is a Prime Number : \"))\n",
    "counter = 0\n",
    "for i in range(1,n+1):\n",
    "    if n % i == 0:\n",
    "        counter += 1\n",
    "\n",
    "if (counter >= 3) or (n == 0) or (n == 1):\n",
    "    print(n, \"is not a Prime Number\")\n",
    "else:\n",
    "    print(n, \"is a Prime Number\")"
   ]
  }
 ],
 "metadata": {
  "interpreter": {
   "hash": "42b42069cbbf0a6319a26f91c3d8a98d7fbd1c788cb6a50cdce8d66031b17e46"
  },
  "kernelspec": {
   "display_name": "Python 3.9.2rc1 64-bit (system)",
   "language": "python",
   "name": "python3"
  },
  "language_info": {
   "codemirror_mode": {
    "name": "ipython",
    "version": 3
   },
   "file_extension": ".py",
   "mimetype": "text/x-python",
   "name": "python",
   "nbconvert_exporter": "python",
   "pygments_lexer": "ipython3",
   "version": "3.9.2"
  },
  "orig_nbformat": 4
 },
 "nbformat": 4,
 "nbformat_minor": 2
}
