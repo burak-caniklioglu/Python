{
  "nbformat": 4,
  "nbformat_minor": 0,
  "metadata": {
    "colab": {
      "name": "Does my number look big in this?.ipynb",
      "provenance": [],
      "authorship_tag": "ABX9TyPNjCl8j+iZSnqNVohL2GuI",
      "include_colab_link": true
    },
    "kernelspec": {
      "name": "python3",
      "display_name": "Python 3"
    },
    "language_info": {
      "name": "python"
    }
  },
  "cells": [
    {
      "cell_type": "markdown",
      "metadata": {
        "id": "view-in-github",
        "colab_type": "text"
      },
      "source": [
        "<a href=\"https://colab.research.google.com/github/burak-caniklioglu/Python/blob/main/Does_my_number_look_big_in_this%3F.ipynb\" target=\"_parent\"><img src=\"https://colab.research.google.com/assets/colab-badge.svg\" alt=\"Open In Colab\"/></a>"
      ]
    },
    {
      "cell_type": "markdown",
      "source": [
        "A Narcissistic Number is a positive number which is the sum of its own digits, each raised to the power of the number of digits in a given base. In this Kata, we will restrict ourselves to decimal (base 10).\n",
        "\n",
        "For example, take 153 (3 digits), which is narcisstic:\n",
        "\n",
        "    1^3 + 5^3 + 3^3 = 1 + 125 + 27 = 153\n",
        "and 1652 (4 digits), which isn't:\n",
        "\n",
        "    1^4 + 6^4 + 5^4 + 2^4 = 1 + 1296 + 625 + 16 = 1938\n",
        "The Challenge:\n",
        "\n",
        "Your code must return true or false (not 'true' and 'false') depending upon whether the given number is a Narcissistic number in base 10. \n",
        "\n",
        "Error checking for text strings or other invalid inputs is not required, only valid positive non-zero integers will be passed into the function."
      ],
      "metadata": {
        "id": "nuESFwv8hXJ7"
      }
    },
    {
      "cell_type": "code",
      "source": [
        "def narcissistic( value ):\n",
        "    if sum([pow(int(i),len(str(value))) for i in str(value)]) == value:\n",
        "        return True\n",
        "    else:\n",
        "        return False\n",
        "narcissistic(153)"
      ],
      "metadata": {
        "colab": {
          "base_uri": "https://localhost:8080/"
        },
        "id": "YfhDAULkhnfc",
        "outputId": "aa6b08d1-7e0b-4d51-8277-15bf78c94af4"
      },
      "execution_count": 3,
      "outputs": [
        {
          "output_type": "execute_result",
          "data": {
            "text/plain": [
              "True"
            ]
          },
          "metadata": {},
          "execution_count": 3
        }
      ]
    }
  ]
}