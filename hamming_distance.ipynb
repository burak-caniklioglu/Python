{
  "nbformat": 4,
  "nbformat_minor": 0,
  "metadata": {
    "colab": {
      "name": "hamming_distance.ipynb",
      "provenance": [],
      "authorship_tag": "ABX9TyOUe83z1BnFSFEJ31f+Fqp5",
      "include_colab_link": true
    },
    "kernelspec": {
      "name": "python3",
      "display_name": "Python 3"
    },
    "language_info": {
      "name": "python"
    }
  },
  "cells": [
    {
      "cell_type": "markdown",
      "metadata": {
        "id": "view-in-github",
        "colab_type": "text"
      },
      "source": [
        "<a href=\"https://colab.research.google.com/github/burak-caniklioglu/Python/blob/main/hamming_distance.ipynb\" target=\"_parent\"><img src=\"https://colab.research.google.com/assets/colab-badge.svg\" alt=\"Open In Colab\"/></a>"
      ]
    },
    {
      "cell_type": "markdown",
      "source": [
        "The hamming distance between a pair of numbers is the number of binary bits that differ in their binary notation.\n",
        "\n",
        "Example\n",
        "For a = 25, b= 87, the result should be 4\n",
        "\n",
        "25: 00011001\n",
        "87: 01010111\n",
        "The hamming distance between these two would be 4 ( the 2nd, 5th, 6th, 7th bit ).\n",
        "\n",
        "Input/Output\n",
        "[input] integer a\n",
        "First Number. 1 <= a <= 2^20\n",
        "\n",
        "[input] integer b\n",
        "Second Number. 1 <= b <= 2^20\n",
        "\n",
        "[output] an integer\n",
        "Hamming Distance"
      ],
      "metadata": {
        "id": "PEW4sc4zcbM6"
      }
    },
    {
      "cell_type": "code",
      "source": [
        "def hamming_distance(a, b):\n",
        "    x = f\"{int(bin(a)[2:]):01600}\"\n",
        "    y = f\"{int(bin(b)[2:]):01600}\"\n",
        "    \n",
        "    count = 0\n",
        "    for i in range(1600):\n",
        "        if x[i] != y[i]:\n",
        "            count += 1\n",
        "    return count\n",
        "\n",
        "hamming_distance(25,87)"
      ],
      "metadata": {
        "colab": {
          "base_uri": "https://localhost:8080/"
        },
        "id": "XUeBbMx8cn9a",
        "outputId": "99e57fee-4c72-49e8-9202-3dbe4a48b386"
      },
      "execution_count": 2,
      "outputs": [
        {
          "output_type": "execute_result",
          "data": {
            "text/plain": [
              "4"
            ]
          },
          "metadata": {},
          "execution_count": 2
        }
      ]
    }
  ]
}