{
 "cells": [
  {
   "cell_type": "code",
   "execution_count": 3,
   "metadata": {},
   "outputs": [
    {
     "name": "stdout",
     "output_type": "stream",
     "text": [
      "True\n"
     ]
    }
   ],
   "source": [
    "def validSolution(x) :\n",
    "      \n",
    "  for i in x:\n",
    "    a = []\n",
    "    for j in i:\n",
    "      a.append(j)\n",
    "    if len(a) != len(set(i)) or sum(a) != 45:\n",
    "      print(False)\n",
    "      flag = 0\n",
    "      break\n",
    "    else:\n",
    "      flag = 1\n",
    "\n",
    "  if flag == 1:\n",
    "\n",
    "    b = []\n",
    "    for i in x:\n",
    "      b.append(i[0])\n",
    "    \n",
    "    if len(b) != len(set(b)) or sum(b) != 45:\n",
    "        print(False)\n",
    "    else:\n",
    "      print(True)\n",
    "\n",
    "\n",
    "# validSolution([\n",
    "#   [5, 3, 4, 6, 7, 8, 9, 1, 2], \n",
    "#   [6, 7, 2, 1, 9, 0, 3, 4, 8],\n",
    "#   [1, 0, 0, 3, 4, 2, 5, 6, 0],\n",
    "#   [8, 5, 9, 7, 6, 1, 0, 2, 0],\n",
    "#   [4, 2, 6, 8, 5, 3, 7, 9, 1],\n",
    "#   [7, 1, 3, 9, 2, 4, 8, 5, 6],\n",
    "#   [9, 0, 1, 5, 3, 7, 2, 1, 4],\n",
    "#   [2, 8, 7, 4, 1, 9, 6, 3, 5],\n",
    "#   [3, 0, 0, 4, 8, 1, 1, 7, 9]\n",
    "# ])\n",
    "\n",
    "\n",
    "validSolution([\n",
    "  [5, 3, 4, 6, 7, 8, 9, 1, 2],\n",
    "  [6, 7, 2, 1, 9, 5, 3, 4, 8],\n",
    "  [1, 9, 8, 3, 4, 2, 5, 6, 7],\n",
    "  [8, 5, 9, 7, 6, 1, 4, 2, 3],\n",
    "  [4, 2, 6, 8, 5, 3, 7, 9, 1],\n",
    "  [7, 1, 3, 9, 2, 4, 8, 5, 6],\n",
    "  [9, 6, 1, 5, 3, 7, 2, 8, 4],\n",
    "  [2, 8, 7, 4, 1, 9, 6, 3, 5],\n",
    "  [3, 4, 5, 2, 8, 6, 1, 7, 9]\n",
    "])"
   ]
  }
 ],
 "metadata": {
  "interpreter": {
   "hash": "42b42069cbbf0a6319a26f91c3d8a98d7fbd1c788cb6a50cdce8d66031b17e46"
  },
  "kernelspec": {
   "display_name": "Python 3.9.2rc1 64-bit (system)",
   "language": "python",
   "name": "python3"
  },
  "language_info": {
   "codemirror_mode": {
    "name": "ipython",
    "version": 3
   },
   "file_extension": ".py",
   "mimetype": "text/x-python",
   "name": "python",
   "nbconvert_exporter": "python",
   "pygments_lexer": "ipython3",
   "version": "3.9.2rc1"
  },
  "orig_nbformat": 4
 },
 "nbformat": 4,
 "nbformat_minor": 2
}
