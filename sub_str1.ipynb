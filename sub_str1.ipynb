{
  "nbformat": 4,
  "nbformat_minor": 0,
  "metadata": {
    "colab": {
      "name": "sub-str1.ipynb",
      "provenance": [],
      "authorship_tag": "ABX9TyOGVzCZeP3IrgW1ptDFQi5Q",
      "include_colab_link": true
    },
    "kernelspec": {
      "name": "python3",
      "display_name": "Python 3"
    },
    "language_info": {
      "name": "python"
    }
  },
  "cells": [
    {
      "cell_type": "markdown",
      "metadata": {
        "id": "view-in-github",
        "colab_type": "text"
      },
      "source": [
        "<a href=\"https://colab.research.google.com/github/burak-caniklioglu/Python/blob/main/sub_str1.ipynb\" target=\"_parent\"><img src=\"https://colab.research.google.com/assets/colab-badge.svg\" alt=\"Open In Colab\"/></a>"
      ]
    },
    {
      "cell_type": "code",
      "execution_count": 1,
      "metadata": {
        "colab": {
          "base_uri": "https://localhost:8080/"
        },
        "id": "X3xoRDREaKIk",
        "outputId": "57b7bc86-4c3b-4b18-fdf3-77069010f631"
      },
      "outputs": [
        {
          "output_type": "stream",
          "name": "stdout",
          "text": [
            "These share the common substring '['a', 'n']'\n"
          ]
        }
      ],
      "source": [
        "s1 = \"and\"\n",
        "s2 = \"anrt\"\n",
        "a = []\n",
        "for i in s1:\n",
        "  if i in s2:\n",
        "    a.append(i)\n",
        "if len(a) >= 1:\n",
        "  print(\"These share the common substring '{}'\".format(a))\n",
        "else:\n",
        "  print(\"NO\")"
      ]
    }
  ]
}