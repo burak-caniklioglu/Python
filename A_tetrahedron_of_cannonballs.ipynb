{
  "nbformat": 4,
  "nbformat_minor": 0,
  "metadata": {
    "colab": {
      "name": "A-tetrahedron-of-cannonballs.ipynb",
      "provenance": [],
      "authorship_tag": "ABX9TyNsE5G0PKj+Pt64CvejU6ZL",
      "include_colab_link": true
    },
    "kernelspec": {
      "name": "python3",
      "display_name": "Python 3"
    },
    "language_info": {
      "name": "python"
    }
  },
  "cells": [
    {
      "cell_type": "markdown",
      "metadata": {
        "id": "view-in-github",
        "colab_type": "text"
      },
      "source": [
        "<a href=\"https://colab.research.google.com/github/burak-caniklioglu/Python/blob/main/A_tetrahedron_of_cannonballs.ipynb\" target=\"_parent\"><img src=\"https://colab.research.google.com/assets/colab-badge.svg\" alt=\"Open In Colab\"/></a>"
      ]
    },
    {
      "cell_type": "markdown",
      "source": [
        "\n",
        "\n",
        "So. Given an edge with length = 1, the number of cannonballs contained in the base triangle (the triangular number) will be 1, and the number of cannonballs you would be able to stack in a regular tetrahedron will be 1.\n",
        "\n",
        "The table for the series is this:\n",
        "\n",
        "(edge's length -> triangular number -> \"cannonball number\")\n",
        "\n",
        " 1 ->   1 ->    1\n",
        "\n",
        " 2 ->   3 ->    4\n",
        "\n",
        " 3 ->   6 ->   10\n",
        "\n",
        " 4 ->  10 ->   20\n",
        "\n",
        " 5 ->  15 ->   35\n",
        "\n",
        " 6 ->  21 ->   56\n",
        "\n",
        " 7 ->  28 ->   84\n",
        "\n",
        " 8 ->  36 ->  120\n",
        "\n",
        " 9 ->  45 ->  165\n",
        "\n",
        "10 ->  55 ->  220\n",
        "\n",
        "11 ->  66 ->  286\n",
        "\n",
        "12 ->  78 ->  364\n",
        "\n",
        "13 ->  91 ->  455\n",
        "\n",
        "\n",
        "You can see some properties here:\n",
        "\n",
        "The nth triangular number is: t(n) = n + t(n-1)\n",
        "\n",
        "The nth cannonball number is: c(n) = t(n) + c(n-1)\n",
        "\n",
        "Hint: Remember that, even though, we are talking about tetrahedrons the key number here is not 4 but 3.\n",
        "\n",
        "*** Please, don't worry about the parameters. You will only receive positive integers."
      ],
      "metadata": {
        "id": "QLVfbPPuW6MP"
      }
    },
    {
      "cell_type": "code",
      "source": [
        "def tetrahedron(size):\n",
        "    sum = 0\n",
        "    for i in range(1,size +1):\n",
        "        sum += i * (i +1) // 2\n",
        "    return sum\n",
        "tetrahedron(13)"
      ],
      "metadata": {
        "colab": {
          "base_uri": "https://localhost:8080/"
        },
        "id": "kkvU7_StXcd_",
        "outputId": "0526c431-9fef-447a-ce5f-23b694596717"
      },
      "execution_count": 2,
      "outputs": [
        {
          "output_type": "execute_result",
          "data": {
            "text/plain": [
              "455"
            ]
          },
          "metadata": {},
          "execution_count": 2
        }
      ]
    }
  ]
}