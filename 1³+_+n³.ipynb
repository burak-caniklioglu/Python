{
  "nbformat": 4,
  "nbformat_minor": 0,
  "metadata": {
    "colab": {
      "name": "1³+...+n³.ipynb",
      "provenance": [],
      "authorship_tag": "ABX9TyNI4dUYVQjSE8qlevFVtN/x",
      "include_colab_link": true
    },
    "kernelspec": {
      "name": "python3",
      "display_name": "Python 3"
    },
    "language_info": {
      "name": "python"
    }
  },
  "cells": [
    {
      "cell_type": "markdown",
      "metadata": {
        "id": "view-in-github",
        "colab_type": "text"
      },
      "source": [
        "<a href=\"https://colab.research.google.com/github/burak-caniklioglu/Python/blob/main/1%C2%B3%2B_%2Bn%C2%B3.ipynb\" target=\"_parent\"><img src=\"https://colab.research.google.com/assets/colab-badge.svg\" alt=\"Open In Colab\"/></a>"
      ]
    },
    {
      "cell_type": "code",
      "execution_count": 1,
      "metadata": {
        "colab": {
          "base_uri": "https://localhost:8080/"
        },
        "id": "Bk-X8zdoLB2g",
        "outputId": "8162408c-16db-402c-cd54-83df653c0e64"
      },
      "outputs": [
        {
          "output_type": "stream",
          "name": "stdout",
          "text": [
            "Enter a number : 1071225\n",
            "45\n"
          ]
        }
      ],
      "source": [
        "m = int(input(\"Enter a number : \"))\n",
        "i = 1\n",
        "while  m != 0 and m > 0 :\n",
        "  m = m - (i ** 3)\n",
        "  if m != 0:\n",
        "    i += 1\n",
        "\n",
        "if m == 0:\n",
        "  print(i)\n",
        "else:\n",
        "  print(None)"
      ]
    }
  ]
}