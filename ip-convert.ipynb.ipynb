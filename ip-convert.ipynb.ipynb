{
 "cells": [
  {
   "cell_type": "markdown",
   "metadata": {},
   "source": [
    "### Question \n",
    "```\n",
    "Take the following IPv4 address: **128.32.10.1**\n",
    "\n",
    "This address has 4 octets where each octet is a single byte (or 8 bits).\n",
    "\n",
    "- 1st octet **128** has the binary representation: **10000000**\n",
    "- 2nd octet **32** has the binary representation: **00100000**\n",
    "- 3rd octet **10** has the binary representation: **00001010**\n",
    "- 4th octet **1** has the binary representation: **00000001**\n",
    "\n",
    "So **128.32.10.1** == **10000000.00100000.00001010.00000001**\n",
    "\n",
    "Because the above IP address has 32 bits, we can represent it as the unsigned 32 bit number: **2149583361**\n",
    "\n",
    "Complete the function that takes an unsigned 32 bit number and returns a string representation of its IPv4 address.\n",
    "\n",
    "Examples\n",
    "\n",
    "2149583361 ==> \"128.32.10.1\"\n",
    "\n",
    "32         ==> \"0.0.0.32\"\n",
    "\n",
    "0          ==> \"0.0.0.0\""
   ]
  },
  {
   "cell_type": "code",
   "execution_count": 3,
   "metadata": {},
   "outputs": [
    {
     "data": {
      "text/plain": [
       "'128.32.10.1'"
      ]
     },
     "execution_count": 3,
     "metadata": {},
     "output_type": "execute_result"
    }
   ],
   "source": [
    "def ip_convert(a) :\n",
    "    con = \"{0:b}\".format(a).rjust(32, \"0\")\n",
    "    return \".\".join([str(int(con[x : x + 8], 2)) for x in range(0, 32, 8)])\n",
    "ip_convert(2149583361)"
   ]
  }
 ],
 "metadata": {
  "interpreter": {
   "hash": "42b42069cbbf0a6319a26f91c3d8a98d7fbd1c788cb6a50cdce8d66031b17e46"
  },
  "kernelspec": {
   "display_name": "Python 3.9.2rc1 64-bit (system)",
   "language": "python",
   "name": "python3"
  },
  "language_info": {
   "codemirror_mode": {
    "name": "ipython",
    "version": 3
   },
   "file_extension": ".py",
   "mimetype": "text/x-python",
   "name": "python",
   "nbconvert_exporter": "python",
   "pygments_lexer": "ipython3",
   "version": "3.9.2rc1"
  },
  "orig_nbformat": 4
 },
 "nbformat": 4,
 "nbformat_minor": 2
}
