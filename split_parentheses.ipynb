{
 "cells": [
  {
   "cell_type": "markdown",
   "metadata": {},
   "source": [
    "### Question \n",
    "```\n",
    "Write a function that groups a string into parentheses cluster. Each cluster should be balanced.\n",
    "split(\"()()()\") ➞ [\"()\", \"()\", \"()\"]\n",
    "\n",
    "split(\"((()))\") ➞ [\"((()))\"]\n",
    "\n",
    "split(\"((()))(())()()(()())\") ➞ [\"((()))\", \"(())\", \"()\", \"()\", \"(()())\"]\n",
    "\n",
    "split(\"((())())(()(()()))\") ➞ [\"((())())\", \"(()(()()))\"]\n",
    "```"
   ]
  },
  {
   "cell_type": "code",
   "execution_count": null,
   "metadata": {},
   "outputs": [],
   "source": [
    "def split(x) :\n",
    "    a, b, i= 0, 0, 1\n",
    "    c = \"\"\n",
    "    while i<= len(x):\n",
    "        for j in x:\n",
    "            if j == \"(\":\n",
    "                a += 1\n",
    "                c += j\n",
    "            else:\n",
    "                b += 1\n",
    "                c += j\n",
    "            if a == b:\n",
    "                c += \" \"\n",
    "            \n",
    "            i += 1\n",
    "    return c.split()\n",
    "print(split(\"()()()\"))\n",
    "print(split(\"((()))(())()()(()())\"))\n",
    "print(split(\"((())())(()(()()))\") )"
   ]
  }
 ],
 "metadata": {
  "interpreter": {
   "hash": "42b42069cbbf0a6319a26f91c3d8a98d7fbd1c788cb6a50cdce8d66031b17e46"
  },
  "kernelspec": {
   "display_name": "Python 3.9.2rc1 64-bit (system)",
   "language": "python",
   "name": "python3"
  },
  "language_info": {
   "codemirror_mode": {
    "name": "ipython",
    "version": 3
   },
   "file_extension": ".py",
   "mimetype": "text/x-python",
   "name": "python",
   "nbconvert_exporter": "python",
   "pygments_lexer": "ipython3",
   "version": "3.9.2rc1"
  },
  "orig_nbformat": 4
 },
 "nbformat": 4,
 "nbformat_minor": 2
}
