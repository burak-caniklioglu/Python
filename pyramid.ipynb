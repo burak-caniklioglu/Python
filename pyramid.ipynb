{
 "cells": [
  {
   "cell_type": "code",
   "execution_count": 6,
   "metadata": {},
   "outputs": [
    {
     "name": "stdout",
     "output_type": "stream",
     "text": [
      "[0, 1, 2, 3, 4, 3, 2, 1, 0]\n"
     ]
    }
   ],
   "source": [
    "n = [0, 0, 0, 0, 4, 0, 0, 0, 0]\n",
    "a = []\n",
    "if len(n) == 1:\n",
    "    print(n)\n",
    "elif len(n) > 1:\n",
    "  for i in n:\n",
    "    if i != 0:\n",
    "      for j in range(i,-1,-1):\n",
    "        a.append(j)\n",
    "      b= a.copy()\n",
    "      b.sort()\n",
    "      b.remove(i)\n",
    "print(b+a)"
   ]
  }
 ],
 "metadata": {
  "interpreter": {
   "hash": "42b42069cbbf0a6319a26f91c3d8a98d7fbd1c788cb6a50cdce8d66031b17e46"
  },
  "kernelspec": {
   "display_name": "Python 3.9.2rc1 64-bit (system)",
   "language": "python",
   "name": "python3"
  },
  "language_info": {
   "codemirror_mode": {
    "name": "ipython",
    "version": 3
   },
   "file_extension": ".py",
   "mimetype": "text/x-python",
   "name": "python",
   "nbconvert_exporter": "python",
   "pygments_lexer": "ipython3",
   "version": "3.9.2rc1"
  },
  "orig_nbformat": 4
 },
 "nbformat": 4,
 "nbformat_minor": 2
}
