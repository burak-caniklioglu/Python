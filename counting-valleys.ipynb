{
 "cells": [
  {
   "cell_type": "markdown",
   "metadata": {},
   "source": [
    "You need count how many valleys you will pass.\n",
    "\n",
    "Start is always from zero level.\n",
    "\n",
    "Every time you go down below 0 level counts as an entry of a valley, and as you go up to 0 level from valley counts as an exit of a valley.\n",
    "\n",
    "One passed valley is equal one entry and one exit of a valley.\n",
    "\n",
    "s='FUFFDDFDUDFUFUF'\n",
    "U=UP\n",
    "F=FORWARD\n",
    "D=DOWN\n"
   ]
  },
  {
   "cell_type": "code",
   "execution_count": 3,
   "metadata": {},
   "outputs": [
    {
     "name": "stdout",
     "output_type": "stream",
     "text": [
      "0\n",
      "1\n",
      "3\n"
     ]
    }
   ],
   "source": [
    "def counting_valleys(s):\n",
    "    level, valleys = 0, 0\n",
    "\n",
    "    for step in s:\n",
    "        if step == \"U\" and level == -1 :\n",
    "            valleys += 1\n",
    "        level += {\"U\": 1, \"F\" : 0, \"D\":-1}[step]\n",
    "    return valleys\n",
    "\n",
    "\n",
    "\n",
    "print(counting_valleys('UFFFD'))\n",
    "print(counting_valleys('DFFFU'))\n",
    "print(counting_valleys('UFFDDFDUDFUFUUFFDDUFFDDUFFDDUDUDUDUDUDUUUUUUUUU'))"
   ]
  }
 ],
 "metadata": {
  "interpreter": {
   "hash": "42b42069cbbf0a6319a26f91c3d8a98d7fbd1c788cb6a50cdce8d66031b17e46"
  },
  "kernelspec": {
   "display_name": "Python 3.9.2rc1 64-bit (system)",
   "language": "python",
   "name": "python3"
  },
  "language_info": {
   "codemirror_mode": {
    "name": "ipython",
    "version": 3
   },
   "file_extension": ".py",
   "mimetype": "text/x-python",
   "name": "python",
   "nbconvert_exporter": "python",
   "pygments_lexer": "ipython3",
   "version": "3.9.2rc1"
  },
  "orig_nbformat": 4
 },
 "nbformat": 4,
 "nbformat_minor": 2
}
