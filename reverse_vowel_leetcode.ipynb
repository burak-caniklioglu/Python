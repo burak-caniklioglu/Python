{
  "nbformat": 4,
  "nbformat_minor": 0,
  "metadata": {
    "colab": {
      "name": "reverse-vowel-leetcode.ipynb",
      "provenance": [],
      "authorship_tag": "ABX9TyOGO48kL17ZdZKV+9WN4GdC",
      "include_colab_link": true
    },
    "kernelspec": {
      "name": "python3",
      "display_name": "Python 3"
    },
    "language_info": {
      "name": "python"
    }
  },
  "cells": [
    {
      "cell_type": "markdown",
      "metadata": {
        "id": "view-in-github",
        "colab_type": "text"
      },
      "source": [
        "<a href=\"https://colab.research.google.com/github/burak-caniklioglu/Python/blob/main/reverse_vowel_leetcode.ipynb\" target=\"_parent\"><img src=\"https://colab.research.google.com/assets/colab-badge.svg\" alt=\"Open In Colab\"/></a>"
      ]
    },
    {
      "cell_type": "code",
      "execution_count": 1,
      "metadata": {
        "colab": {
          "base_uri": "https://localhost:8080/"
        },
        "id": "FHPkl9sy-tTu",
        "outputId": "8000982e-cdec-4414-feb7-433ebddd4b27"
      },
      "outputs": [
        {
          "output_type": "stream",
          "name": "stdout",
          "text": [
            "leotcede\n"
          ]
        }
      ],
      "source": [
        "n = \"leetcode\"\n",
        "vowel = \"aeiou\"\n",
        "a = \"\"\n",
        "b = \"\"\n",
        "for i in n:\n",
        "  if i in vowel:\n",
        "    a += i\n",
        "\n",
        "a = a[::-1]\n",
        "\n",
        "for i in n:\n",
        "  if not i in vowel:\n",
        "    b += i\n",
        "  else:\n",
        "    b += a[0]\n",
        "    \n",
        "    a = a.replace(a[0],\"\",1)\n",
        "    \n",
        "print(b)"
      ]
    }
  ]
}