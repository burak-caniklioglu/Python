{
  "nbformat": 4,
  "nbformat_minor": 0,
  "metadata": {
    "colab": {
      "name": "sum-of-parts.ipynb",
      "provenance": [],
      "authorship_tag": "ABX9TyOCFe8OcVtjqQP5Ysu5u5KQ",
      "include_colab_link": true
    },
    "kernelspec": {
      "name": "python3",
      "display_name": "Python 3"
    },
    "language_info": {
      "name": "python"
    }
  },
  "cells": [
    {
      "cell_type": "markdown",
      "metadata": {
        "id": "view-in-github",
        "colab_type": "text"
      },
      "source": [
        "<a href=\"https://colab.research.google.com/github/burak-caniklioglu/Python/blob/main/sum_of_parts.ipynb\" target=\"_parent\"><img src=\"https://colab.research.google.com/assets/colab-badge.svg\" alt=\"Open In Colab\"/></a>"
      ]
    },
    {
      "cell_type": "markdown",
      "source": [
        "Let us consider this example (array written in general format):\n",
        "\n",
        "ls = [0, 1, 3, 6, 10]\n",
        "\n",
        "Its following parts:\n",
        "\n",
        "ls = [0, 1, 3, 6, 10],\n",
        "\n",
        "ls = [1, 3, 6, 10],\n",
        "\n",
        "ls = [3, 6, 10],\n",
        "\n",
        "ls = [6, 10],\n",
        "\n",
        "ls = [10],\n",
        "\n",
        "ls = [],\n",
        "\n",
        "The corresponding sums are (put together in a list): [20, 20, 19, 16, 10, 0]\n",
        "\n",
        "The function parts_sums (or its variants in other languages) will take as parameter a list ls and return a list of the sums of its parts as defined above.\n",
        "\n",
        "Other Examples:\n",
        "ls = [1, 2, 3, 4, 5, 6] \n",
        "\n",
        "parts_sums(ls) -> [21, 20, 18, 15, 11, 6, 0]\n",
        "\n",
        "ls = [744125, 935, 407, 454, 430, 90, 144, 6710213, 889, 810, 2579358]\n",
        "\n",
        "parts_sums(ls) -> [10037855, 9293730, 9292795, 9292388, 9291934, 9291504, 9291414, 9291270, 2581057, 2580168, 2579358, 0]"
      ],
      "metadata": {
        "id": "pAUrZceFeHQL"
      }
    },
    {
      "cell_type": "code",
      "source": [
        "def parts_sums(ls):\n",
        "    res = []\n",
        "    for i in range(len(ls)):\n",
        "        res.append(sum(ls))\n",
        "        ls.pop(0)    \n",
        "    res.append(0)\n",
        "    return res\n",
        "\n",
        "print(parts_sums([]))\n",
        "print(parts_sums([0, 1, 3, 6, 10]))\n",
        "print(parts_sums([1, 2, 3, 4, 5, 6]))\n",
        "print(parts_sums([744125, 935, 407, 454, 430, 90, 144, 6710213, 889, 810, 2579358]))\n"
      ],
      "metadata": {
        "colab": {
          "base_uri": "https://localhost:8080/"
        },
        "id": "vhwLvV9meIc0",
        "outputId": "906a6eb9-8285-46f3-e947-944f2574abb5"
      },
      "execution_count": 2,
      "outputs": [
        {
          "output_type": "stream",
          "name": "stdout",
          "text": [
            "[0]\n",
            "[20, 20, 19, 16, 10, 0]\n",
            "[21, 20, 18, 15, 11, 6, 0]\n",
            "[10037855, 9293730, 9292795, 9292388, 9291934, 9291504, 9291414, 9291270, 2581057, 2580168, 2579358, 0]\n"
          ]
        }
      ]
    }
  ]
}