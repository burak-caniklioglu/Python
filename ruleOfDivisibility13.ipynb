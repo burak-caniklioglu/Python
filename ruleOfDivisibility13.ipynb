{
  "nbformat": 4,
  "nbformat_minor": 0,
  "metadata": {
    "colab": {
      "name": "ruleOfDivisibility13.ipynb",
      "provenance": [],
      "authorship_tag": "ABX9TyNwPgN40dGRyyUThmXtsDWd",
      "include_colab_link": true
    },
    "kernelspec": {
      "name": "python3",
      "display_name": "Python 3"
    },
    "language_info": {
      "name": "python"
    }
  },
  "cells": [
    {
      "cell_type": "markdown",
      "metadata": {
        "id": "view-in-github",
        "colab_type": "text"
      },
      "source": [
        "<a href=\"https://colab.research.google.com/github/burak-caniklioglu/Python/blob/main/ruleOfDivisibility13.ipynb\" target=\"_parent\"><img src=\"https://colab.research.google.com/assets/colab-badge.svg\" alt=\"Open In Colab\"/></a>"
      ]
    },
    {
      "cell_type": "markdown",
      "source": [
        "From Wikipedia:\n",
        "\n",
        "\"A divisibility rule is a shorthand way of determining whether a given integer is divisible by a fixed divisor without performing the division, usually by examining its digits.\"\n",
        "\n",
        "When you divide the successive powers of 10 by 13 you get the following remainders of the integer divisions:\n",
        "\n",
        "1, 10, 9, 12, 3, 4 because:\n",
        "\n",
        "10 ^ 0 ->  1 (mod 13)\n",
        "\n",
        "10 ^ 1 -> 10 (mod 13)\n",
        "\n",
        "10 ^ 2 ->  9 (mod 13)\n",
        "\n",
        "10 ^ 3 -> 12 (mod 13)\n",
        "\n",
        "10 ^ 4 ->  3 (mod 13)\n",
        "\n",
        "10 ^ 5 ->  4 (mod 13)\n",
        "\n",
        "(For \"mod\" you can see: https://en.wikipedia.org/wiki/Modulo_operation)\n",
        "\n",
        "Then the whole pattern repeats. Hence the following method:\n",
        "\n",
        "Multiply\n",
        "\n",
        "the right most digit of the number with the left most number in the sequence shown above,\n",
        "the second right most digit with the second left most digit of the number in the sequence.\n",
        "The cycle goes on and you sum all these products. Repeat this process until the sequence of sums is stationary.\n",
        "\n",
        "Example:\n",
        "What is the remainder when 1234567 is divided by 13?\n",
        "\n",
        "7      6     5      4     3     2     1  (digits of 1234567 from the right)\n",
        "\n",
        "×      ×     ×      ×     ×      ×      ×       (multiplication)\n",
        "\n",
        "1     10     9     12     3     4     1  (the repeating sequence)\n",
        "Therefore following the method we get:\n",
        "\n",
        "7×1 + 6×10 + 5×9 + 4×12 + 3×3 + 2×4 + 1×1 = 178\n",
        "\n",
        "We repeat the process with the number 178:\n",
        "\n",
        "8x1 + 7x10 + 1x9 = 87\n",
        "\n",
        "and again with 87:\n",
        "\n",
        "7x1 + 8x10 = 87\n",
        "\n",
        "From now on the sequence is stationary (we always get 87) and the remainder of 1234567 by 13 is the same as the remainder of 87 by 13 ( i.e 9).\n",
        "\n",
        "Task:\n",
        "Call thirt the function which processes this sequence of operations on an integer n (>=0). thirt will return the stationary number.\n",
        "\n",
        "thirt(1234567) calculates 178, then 87, then 87 and returns 87.\n",
        "\n",
        "thirt(321) calculates 48, 48 and returns 48"
      ],
      "metadata": {
        "id": "XUXYFUOVRkEb"
      }
    },
    {
      "cell_type": "code",
      "source": [
        "def thirt(n):\n",
        "    a = [1, 10, 9, 12, 3, 4]\n",
        "    b = []\n",
        "    flag = True\n",
        "    while flag:\n",
        "        c = str(n)[::-1]\n",
        "        res = 0\n",
        "        \n",
        "        for i in range(len(c)):\n",
        "            res += int(c[i]) * a[i % len(a)]\n",
        "        \n",
        "        if  res not in b:\n",
        "            b.append(res)\n",
        "        else:\n",
        "            flag = False\n",
        "        \n",
        "        n = res\n",
        "    return n\n",
        "\n",
        "print(thirt(1234567))\n",
        "print(thirt(321))"
      ],
      "metadata": {
        "colab": {
          "base_uri": "https://localhost:8080/"
        },
        "id": "1GQ_kcRSR1Sq",
        "outputId": "b1cedd16-eb7e-416e-d0b9-95a39875b40f"
      },
      "execution_count": 2,
      "outputs": [
        {
          "output_type": "stream",
          "name": "stdout",
          "text": [
            "87\n",
            "48\n"
          ]
        }
      ]
    }
  ]
}