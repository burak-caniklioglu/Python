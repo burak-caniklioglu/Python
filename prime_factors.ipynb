{
 "cells": [
  {
   "cell_type": "markdown",
   "metadata": {},
   "source": [
    "Create a function that returns a list containing the prime factors of whatever integer is passed to it.\n",
    "\n",
    "prime_factors(20) ➞ [2, 2, 5]\n",
    "\n",
    "prime_factors(100) ➞ [2, 2, 5, 5]\n",
    "\n",
    "prime_factors(8912234) ➞ [2, 47, 94811]"
   ]
  },
  {
   "cell_type": "code",
   "execution_count": 1,
   "metadata": {},
   "outputs": [
    {
     "name": "stdout",
     "output_type": "stream",
     "text": [
      "[2, 2, 5]\n",
      "[37]\n",
      "[2, 47, 94811]\n"
     ]
    }
   ],
   "source": [
    "def prime_factors(x) :\n",
    "    a = []\n",
    "    while x != 0:\n",
    "        for i in range(2,x+1):\n",
    "            if x % i == 0:\n",
    "                a.append(i)\n",
    "                break\n",
    "        x = x // i\n",
    "    return a\n",
    "print(prime_factors(20))\n",
    "print(prime_factors(37))\n",
    "print(prime_factors(8912234))"
   ]
  }
 ],
 "metadata": {
  "interpreter": {
   "hash": "42b42069cbbf0a6319a26f91c3d8a98d7fbd1c788cb6a50cdce8d66031b17e46"
  },
  "kernelspec": {
   "display_name": "Python 3.9.2rc1 64-bit (system)",
   "language": "python",
   "name": "python3"
  },
  "language_info": {
   "codemirror_mode": {
    "name": "ipython",
    "version": 3
   },
   "file_extension": ".py",
   "mimetype": "text/x-python",
   "name": "python",
   "nbconvert_exporter": "python",
   "pygments_lexer": "ipython3",
   "version": "3.9.2rc1"
  },
  "orig_nbformat": 4
 },
 "nbformat": 4,
 "nbformat_minor": 2
}
