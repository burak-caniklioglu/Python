{
  "nbformat": 4,
  "nbformat_minor": 0,
  "metadata": {
    "colab": {
      "name": "expansion.ipynb",
      "provenance": [],
      "authorship_tag": "ABX9TyNgwU5n2GWyaoOtoDgj2lof",
      "include_colab_link": true
    },
    "kernelspec": {
      "name": "python3",
      "display_name": "Python 3"
    },
    "language_info": {
      "name": "python"
    }
  },
  "cells": [
    {
      "cell_type": "markdown",
      "metadata": {
        "id": "view-in-github",
        "colab_type": "text"
      },
      "source": [
        "<a href=\"https://colab.research.google.com/github/burak-caniklioglu/Python/blob/main/expansion.ipynb\" target=\"_parent\"><img src=\"https://colab.research.google.com/assets/colab-badge.svg\" alt=\"Open In Colab\"/></a>"
      ]
    },
    {
      "cell_type": "code",
      "execution_count": 3,
      "metadata": {
        "colab": {
          "base_uri": "https://localhost:8080/"
        },
        "id": "bCiD4FZ0H4qI",
        "outputId": "e0c7d185-dc40-45e2-ae47-4e00c7574659"
      },
      "outputs": [
        {
          "output_type": "stream",
          "name": "stdout",
          "text": [
            "223\n",
            "200+20+3\n"
          ]
        }
      ],
      "source": [
        "n = list(input(\"\"))\n",
        "a = []\n",
        "i = len(n)\n",
        "while i >0 :\n",
        "    for j in range(len(n)):\n",
        "        a.append(str(int(n[j]) * 10 ** (i-1)))\n",
        "        if str(int(n[j]) * 10 ** (i-1)) == \"0\":\n",
        "            a.remove(\"0\")\n",
        "        i -= 1\n",
        "\n",
        "a = \"+\".join(a)\n",
        "print(a)"
      ]
    }
  ]
}