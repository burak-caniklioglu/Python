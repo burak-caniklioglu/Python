{
 "cells": [
  {
   "cell_type": "markdown",
   "metadata": {},
   "source": [
    "Given an array of integers, find the one that appears an odd number of times.\n",
    "\n",
    "There will always be only one integer that appears an odd number of times.\n",
    "\n",
    "Examples\n",
    "[7] should return 7, because it occurs 1 time (which is odd).\n",
    "[0] should return 0, because it occurs 1 time (which is odd).\n",
    "[1,1,2] should return 2, because it occurs 1 time (which is odd).\n",
    "[0,1,0,1,0] should return 0, because it occurs 3 times (which is odd).\n",
    "[1,2,2,3,3,3,4,3,3,3,2,2,1] should return 4, because it appears 1 time (which is odd)."
   ]
  },
  {
   "cell_type": "code",
   "execution_count": 2,
   "metadata": {},
   "outputs": [
    {
     "data": {
      "text/plain": [
       "5"
      ]
     },
     "execution_count": 2,
     "metadata": {},
     "output_type": "execute_result"
    }
   ],
   "source": [
    "def find_it(seq):\n",
    "    d = {}\n",
    "    \n",
    "    for i in seq:\n",
    "        d[i] = seq.count(i)\n",
    "    a = 0\n",
    "    for j in d.keys():\n",
    "        if d[j] % 2 != 0 and d[j] > a:\n",
    "            a = j\n",
    "    return a\n",
    "\n",
    "\n",
    "find_it([20,1,-1,2,-2,3,3,5,5,1,2,4,20,4,-1,-2,5])"
   ]
  }
 ],
 "metadata": {
  "interpreter": {
   "hash": "42b42069cbbf0a6319a26f91c3d8a98d7fbd1c788cb6a50cdce8d66031b17e46"
  },
  "kernelspec": {
   "display_name": "Python 3.9.2rc1 64-bit (system)",
   "language": "python",
   "name": "python3"
  },
  "language_info": {
   "codemirror_mode": {
    "name": "ipython",
    "version": 3
   },
   "file_extension": ".py",
   "mimetype": "text/x-python",
   "name": "python",
   "nbconvert_exporter": "python",
   "pygments_lexer": "ipython3",
   "version": "3.9.2rc1"
  },
  "orig_nbformat": 4
 },
 "nbformat": 4,
 "nbformat_minor": 2
}
