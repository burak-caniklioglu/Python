{
 "cells": [
  {
   "cell_type": "markdown",
   "metadata": {},
   "source": [
    "# https://edabit.com/challenge/646cCaFig6AP89YRo\n",
    "\n",
    "With List Comprehension Solution:\n",
    "\n",
    "Write a program that returns a list of all the numbers from 1 to an integer argument. But for multiples of three use “Fizz” instead of the number and for the multiples of five use “Buzz”. For numbers which are multiples of both three and five use “FizzBuzz”.\n",
    "\n",
    "fizz_buzz(10) ➞ [1, 2, \"Fizz\", 4, \"Buzz\", \"Fizz\", 7, 8, \"Fizz\", \"Buzz\"]\n",
    "\n",
    "fizz_buzz(15) ➞ [1, 2, \"Fizz\", 4, \"Buzz\", \"Fizz\", 7, 8, \"Fizz\", \"Buzz\", 11, \"Fizz\", 13, 14, \"FizzBuzz\"] "
   ]
  },
  {
   "cell_type": "code",
   "execution_count": 2,
   "metadata": {},
   "outputs": [
    {
     "name": "stdout",
     "output_type": "stream",
     "text": [
      "[1, 2, 'Fizz', 4]\n",
      "[1, 2, 'Fizz', 4, 'Buzz', 'Fizz', 7, 8, 'Fizz', 'Buzz']\n",
      "[1, 2, 'Fizz', 4, 'Buzz', 'Fizz', 7, 8, 'Fizz', 'Buzz', 11, 'Fizz', 13, 14, 'FizzBuzz']\n"
     ]
    }
   ],
   "source": [
    "def fizz_buzz(num) :\n",
    "    return [\"FizzBuzz\" if not n%15 else\n",
    "        \"Buzz\" if not n%5 else\n",
    "        \"Fizz\" if not n%3 else\n",
    "        n for n in range(1,num+1)]\n",
    "print(fizz_buzz(4))\n",
    "print(fizz_buzz(10))\n",
    "print(fizz_buzz(15))"
   ]
  }
 ],
 "metadata": {
  "interpreter": {
   "hash": "42b42069cbbf0a6319a26f91c3d8a98d7fbd1c788cb6a50cdce8d66031b17e46"
  },
  "kernelspec": {
   "display_name": "Python 3.9.2rc1 64-bit (system)",
   "language": "python",
   "name": "python3"
  },
  "language_info": {
   "codemirror_mode": {
    "name": "ipython",
    "version": 3
   },
   "file_extension": ".py",
   "mimetype": "text/x-python",
   "name": "python",
   "nbconvert_exporter": "python",
   "pygments_lexer": "ipython3",
   "version": "3.9.2rc1"
  },
  "orig_nbformat": 4
 },
 "nbformat": 4,
 "nbformat_minor": 2
}
