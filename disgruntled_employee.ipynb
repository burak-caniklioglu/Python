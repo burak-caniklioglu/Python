{
  "nbformat": 4,
  "nbformat_minor": 0,
  "metadata": {
    "colab": {
      "name": "disgruntled-employee.ipynb",
      "provenance": [],
      "authorship_tag": "ABX9TyOJZCsWTEG1t00C+tP4z9i6",
      "include_colab_link": true
    },
    "kernelspec": {
      "name": "python3",
      "display_name": "Python 3"
    },
    "language_info": {
      "name": "python"
    }
  },
  "cells": [
    {
      "cell_type": "markdown",
      "metadata": {
        "id": "view-in-github",
        "colab_type": "text"
      },
      "source": [
        "<a href=\"https://colab.research.google.com/github/burak-caniklioglu/Python/blob/main/disgruntled_employee.ipynb\" target=\"_parent\"><img src=\"https://colab.research.google.com/assets/colab-badge.svg\" alt=\"Open In Colab\"/></a>"
      ]
    },
    {
      "cell_type": "markdown",
      "source": [
        "Sir Bobsworth is a custodian at a local data center. As he suspected, Bobsworth recently found out he is to be fired on his birthday after years of pouring his soul into maintaining the facility.\n",
        "\n",
        "Bobsworth, however, has other plans.\n",
        "\n",
        "Bobsworth knows there are 1 to n switches in the breaker box of the data center. Moving from switch 1 to n, Bob first flips every switch off. Beginning from the first switch again, Bob then flips every 2nd switch. Once again starting from the first switch, Bob then flips every 3rd switch. Bob continues this pattern until he flips every nth switch & makes n passes.\n",
        "\n",
        "At the end of Bobsworth's mayhem, how many switches are turned off?\n",
        "\n",
        "Specifications\n",
        "Create the function off, that receives the nth switch as argument n. The function should return an ascending array containing all of the switch numbers that remain off after Bob completes his revenge.\n",
        "\n",
        "Example: (Input --> Output)\n",
        "\n",
        "1 --> [1]\n",
        "\n",
        "2 --> [1]\n",
        "\n",
        "4 --> [1, 4]"
      ],
      "metadata": {
        "id": "GuDOyUaS6KGW"
      }
    },
    {
      "cell_type": "code",
      "source": [
        "def off(n):\n",
        "    return [i**2 for i in range(1,n+1) if i**2 <=n]\n",
        "\n",
        "print(off(1))\n",
        "print(off(2))\n",
        "print(off(4))\n",
        "print(off(12))"
      ],
      "metadata": {
        "colab": {
          "base_uri": "https://localhost:8080/"
        },
        "id": "CURRaKhT6RJA",
        "outputId": "632169db-d985-4aa7-faac-e7f4f96692bd"
      },
      "execution_count": 1,
      "outputs": [
        {
          "output_type": "stream",
          "name": "stdout",
          "text": [
            "[1]\n",
            "[1]\n",
            "[1, 4]\n",
            "[1, 4, 9]\n"
          ]
        }
      ]
    }
  ]
}