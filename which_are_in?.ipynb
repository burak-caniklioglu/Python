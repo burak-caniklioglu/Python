{
  "nbformat": 4,
  "nbformat_minor": 0,
  "metadata": {
    "colab": {
      "name": "which-are-in?.ipynb",
      "provenance": [],
      "authorship_tag": "ABX9TyMT2He3zURuv1WsAeM9x1De",
      "include_colab_link": true
    },
    "kernelspec": {
      "name": "python3",
      "display_name": "Python 3"
    },
    "language_info": {
      "name": "python"
    }
  },
  "cells": [
    {
      "cell_type": "markdown",
      "metadata": {
        "id": "view-in-github",
        "colab_type": "text"
      },
      "source": [
        "<a href=\"https://colab.research.google.com/github/burak-caniklioglu/Python/blob/main/which_are_in%3F.ipynb\" target=\"_parent\"><img src=\"https://colab.research.google.com/assets/colab-badge.svg\" alt=\"Open In Colab\"/></a>"
      ]
    },
    {
      "cell_type": "markdown",
      "source": [
        "Given two arrays of strings a1 and a2 return a sorted array r in lexicographical order of the strings of a1 which are substrings of strings of a2.\n",
        "\n",
        "Example 1:\n",
        "a1 = [\"arp\", \"live\", \"strong\"]\n",
        "\n",
        "a2 = [\"lively\", \"alive\", \"harp\", \"sharp\", \"armstrong\"]\n",
        "\n",
        "returns [\"arp\", \"live\", \"strong\"]\n",
        "\n",
        "Example 2:\n",
        "a1 = [\"tarp\", \"mice\", \"bull\"]\n",
        "\n",
        "a2 = [\"lively\", \"alive\", \"harp\", \"sharp\", \"armstrong\"]\n",
        "\n",
        "returns []\n",
        "\n",
        "Notes:\n",
        "Arrays are written in \"general\" notation. See \"Your Test Cases\" for examples in your language.\n",
        "In Shell bash a1 and a2 are strings. The return is a string where words are separated by commas.\n",
        "Beware: r must be without duplicates."
      ],
      "metadata": {
        "id": "8TnHyBM4SZ-0"
      }
    },
    {
      "cell_type": "code",
      "source": [
        "def in_array(array1, array2):\n",
        "    a = []\n",
        "    \n",
        "    for i in array2:\n",
        "        for j in array1:\n",
        "            for k in range(len(i)):\n",
        "                if j == i[k:k+len(j)]:\n",
        "                    a.append(j)\n",
        "    return sorted(list(set(a)))\n",
        "\n",
        "print(in_array([\"live\", \"arp\", \"strong\"], [\"lively\", \"alive\", \"harp\", \"sharp\", \"armstrong\"]))"
      ],
      "metadata": {
        "colab": {
          "base_uri": "https://localhost:8080/"
        },
        "id": "W6K9H1q-SjOF",
        "outputId": "91c2d812-5e83-4366-b6e0-d783a2ba13a1"
      },
      "execution_count": 2,
      "outputs": [
        {
          "output_type": "stream",
          "name": "stdout",
          "text": [
            "['arp', 'live', 'strong']\n"
          ]
        }
      ]
    }
  ]
}