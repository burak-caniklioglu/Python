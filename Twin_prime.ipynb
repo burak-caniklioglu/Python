{
  "nbformat": 4,
  "nbformat_minor": 0,
  "metadata": {
    "colab": {
      "name": "Twin-prime.ipynb",
      "provenance": [],
      "authorship_tag": "ABX9TyP3VKV/iNKdN+j1ogxfYj5L",
      "include_colab_link": true
    },
    "kernelspec": {
      "name": "python3",
      "display_name": "Python 3"
    },
    "language_info": {
      "name": "python"
    }
  },
  "cells": [
    {
      "cell_type": "markdown",
      "metadata": {
        "id": "view-in-github",
        "colab_type": "text"
      },
      "source": [
        "<a href=\"https://colab.research.google.com/github/burak-caniklioglu/Python/blob/main/Twin_prime.ipynb\" target=\"_parent\"><img src=\"https://colab.research.google.com/assets/colab-badge.svg\" alt=\"Open In Colab\"/></a>"
      ]
    },
    {
      "cell_type": "markdown",
      "source": [
        "A twin prime is a prime number that differs from another prime number by 2. Write a function named is_twin_prime which takes an int parameter and returns true if it is a twin prime, else false.\n",
        "\n",
        "example:\n",
        "\n",
        "given 5, which is prime\n",
        "\n",
        "5+2=7 which is prime \n",
        "\n",
        "5-2=3 which is prime\n",
        "\n",
        "Hence , 5 has two prime twins and its a Twin Prime.\n",
        "\n",
        "---------------------------------------------------\n",
        "given 7, which is prime\n",
        "\n",
        "7-2=5 which is prime\n",
        "\n",
        "7+2=9 which is not prime\n",
        "\n",
        "Hence, 7 has one prime twin, and its a Twin Prime.\n",
        "\n",
        "----------------------------------------------------\n",
        "given 9, which is not prime \n",
        "\n",
        "Hence, 9 is not a Twin Prime\n",
        "\n",
        "----------------------------------------------------\n",
        "given 953 , which is prime\n",
        "\n",
        "953-2=951 , which is not prime\n",
        "\n",
        "953+2=955 , which is not prime \n",
        "\n",
        "Hence, 953 is not a Twin Prime."
      ],
      "metadata": {
        "id": "Sq8zjfWRFLRQ"
      }
    },
    {
      "cell_type": "code",
      "source": [
        "def is_twinprime(n):\n",
        "    def prime(n):\n",
        "        if n >= 0:\n",
        "            a = [i for i in range(1,n+1) if n % i == 0]\n",
        "            if (len(a) > 2) or (n == 1) or (n == 0):\n",
        "                return False\n",
        "            else:\n",
        "                return True\n",
        "        else:\n",
        "            return False\n",
        "        \n",
        "    if (prime(n)) and (prime(n+2) or prime(n-2)):\n",
        "        return True\n",
        "    else:\n",
        "        return False\n",
        "\n",
        "is_twinprime(7)"
      ],
      "metadata": {
        "colab": {
          "base_uri": "https://localhost:8080/"
        },
        "id": "tREJNOxMFVoP",
        "outputId": "070213e3-7cc3-4ab5-98ba-c38c7915d265"
      },
      "execution_count": 2,
      "outputs": [
        {
          "output_type": "execute_result",
          "data": {
            "text/plain": [
              "True"
            ]
          },
          "metadata": {},
          "execution_count": 2
        }
      ]
    }
  ]
}