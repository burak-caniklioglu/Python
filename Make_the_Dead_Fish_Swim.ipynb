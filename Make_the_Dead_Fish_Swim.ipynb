{
  "nbformat": 4,
  "nbformat_minor": 0,
  "metadata": {
    "colab": {
      "name": "Make-the-Dead-Fish-Swim.ipynb",
      "provenance": [],
      "authorship_tag": "ABX9TyO6CzcifufxKrQ5Cw7j4Zk4",
      "include_colab_link": true
    },
    "kernelspec": {
      "name": "python3",
      "display_name": "Python 3"
    },
    "language_info": {
      "name": "python"
    }
  },
  "cells": [
    {
      "cell_type": "markdown",
      "metadata": {
        "id": "view-in-github",
        "colab_type": "text"
      },
      "source": [
        "<a href=\"https://colab.research.google.com/github/burak-caniklioglu/Python/blob/main/Make_the_Dead_Fish_Swim.ipynb\" target=\"_parent\"><img src=\"https://colab.research.google.com/assets/colab-badge.svg\" alt=\"Open In Colab\"/></a>"
      ]
    },
    {
      "cell_type": "markdown",
      "source": [
        "Write a simple parser that will parse and run Deadfish.\n",
        "\n",
        "Deadfish has 4 commands, each 1 character long:\n",
        "\n",
        "i increments the value (initially 0),\n",
        "\n",
        "d decrements the value,\n",
        "\n",
        "s squares the value,\n",
        "\n",
        "o outputs the value into the return array,\n",
        "\n",
        "Invalid characters should be ignored.\n",
        "\n",
        "parse(\"iiisdoso\")  ==>  [8, 64]"
      ],
      "metadata": {
        "id": "Tu8PFlLMYVVy"
      }
    },
    {
      "cell_type": "code",
      "source": [
        "def parse(data):\n",
        "    a = 0\n",
        "    res = []\n",
        "    for i in data:\n",
        "        if i == \"i\":\n",
        "            a += 1\n",
        "        elif i == \"d\":\n",
        "            a -= 1\n",
        "        elif i == \"o\":\n",
        "            res.append(a)\n",
        "        elif i == \"s\":\n",
        "            a = a**2\n",
        "    return res\n",
        "\n",
        "parse(\"iiisdoso\")"
      ],
      "metadata": {
        "colab": {
          "base_uri": "https://localhost:8080/"
        },
        "id": "eoflLESNYXmc",
        "outputId": "a67ff838-b3d3-46e9-c14c-8211e34438f0"
      },
      "execution_count": 2,
      "outputs": [
        {
          "output_type": "execute_result",
          "data": {
            "text/plain": [
              "[8, 64]"
            ]
          },
          "metadata": {},
          "execution_count": 2
        }
      ]
    }
  ]
}