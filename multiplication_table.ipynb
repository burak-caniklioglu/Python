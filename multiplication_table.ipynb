{
  "nbformat": 4,
  "nbformat_minor": 0,
  "metadata": {
    "colab": {
      "name": "multiplication-table.ipynb",
      "provenance": [],
      "authorship_tag": "ABX9TyNqk5kbNF4CBNTV4ZIc3YJC",
      "include_colab_link": true
    },
    "kernelspec": {
      "name": "python3",
      "display_name": "Python 3"
    },
    "language_info": {
      "name": "python"
    }
  },
  "cells": [
    {
      "cell_type": "markdown",
      "metadata": {
        "id": "view-in-github",
        "colab_type": "text"
      },
      "source": [
        "<a href=\"https://colab.research.google.com/github/burak-caniklioglu/Python/blob/main/multiplication_table.ipynb\" target=\"_parent\"><img src=\"https://colab.research.google.com/assets/colab-badge.svg\" alt=\"Open In Colab\"/></a>"
      ]
    },
    {
      "cell_type": "markdown",
      "source": [
        "Your task, is to create NxN multiplication table, of size provided in parameter.\n",
        "\n",
        "for example, when given size is 3:\n",
        "\n",
        "1 2 3\n",
        "\n",
        "2 4 6\n",
        "\n",
        "3 6 9\n",
        "\n",
        "for given example, the return value should be: [ [1,2,3], [2,4,6], [3,6,9] ]"
      ],
      "metadata": {
        "id": "RKZLQH4l-FfM"
      }
    },
    {
      "cell_type": "code",
      "source": [
        "def multiplication_table(size):\n",
        "    a = [[i * j for j in range(1,size+1)] for i in range(1,size+1)]      \n",
        "    return a\n",
        "multiplication_table(3)"
      ],
      "metadata": {
        "colab": {
          "base_uri": "https://localhost:8080/"
        },
        "id": "o7t-1Xkp-SfN",
        "outputId": "5e544c0d-445e-4e8a-b4b2-ed00d9cd6e7e"
      },
      "execution_count": 2,
      "outputs": [
        {
          "output_type": "execute_result",
          "data": {
            "text/plain": [
              "[[1, 2, 3], [2, 4, 6], [3, 6, 9]]"
            ]
          },
          "metadata": {},
          "execution_count": 2
        }
      ]
    }
  ]
}