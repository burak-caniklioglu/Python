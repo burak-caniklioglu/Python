{
 "cells": [
  {
   "cell_type": "code",
   "execution_count": 1,
   "metadata": {},
   "outputs": [
    {
     "name": "stdout",
     "output_type": "stream",
     "text": [
      "371 is an Armstrong Number\n"
     ]
    }
   ],
   "source": [
    "while True:\n",
    "    number = input(\"enter a positive integer number : \")\n",
    "    digits = len(number)\n",
    "    toplam = 0\n",
    "\n",
    "    if not number.isdigit():\n",
    "        print(number, \"is invalid entry. Enter valid input.\")\n",
    "    elif int(number) >= 0:\n",
    "        for i in range(digits):\n",
    "            toplam += int(number[i]) ** digits\n",
    "        if toplam == int(number):\n",
    "            print(number, \"is an Armstrong Number\")\n",
    "            break\n",
    "        else:\n",
    "            print(number, \"is not an Armstrong Number\")\n",
    "            break"
   ]
  }
 ],
 "metadata": {
  "interpreter": {
   "hash": "42b42069cbbf0a6319a26f91c3d8a98d7fbd1c788cb6a50cdce8d66031b17e46"
  },
  "kernelspec": {
   "display_name": "Python 3.9.2rc1 64-bit (system)",
   "language": "python",
   "name": "python3"
  },
  "language_info": {
   "codemirror_mode": {
    "name": "ipython",
    "version": 3
   },
   "file_extension": ".py",
   "mimetype": "text/x-python",
   "name": "python",
   "nbconvert_exporter": "python",
   "pygments_lexer": "ipython3",
   "version": "3.9.2rc1"
  },
  "orig_nbformat": 4
 },
 "nbformat": 4,
 "nbformat_minor": 2
}
