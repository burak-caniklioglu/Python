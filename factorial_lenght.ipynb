{
  "nbformat": 4,
  "nbformat_minor": 0,
  "metadata": {
    "colab": {
      "name": "factorial-lenght.ipynb",
      "provenance": [],
      "authorship_tag": "ABX9TyM8E/NO+6mMIKPAvzCvPhG4",
      "include_colab_link": true
    },
    "kernelspec": {
      "name": "python3",
      "display_name": "Python 3"
    },
    "language_info": {
      "name": "python"
    }
  },
  "cells": [
    {
      "cell_type": "markdown",
      "metadata": {
        "id": "view-in-github",
        "colab_type": "text"
      },
      "source": [
        "<a href=\"https://colab.research.google.com/github/burak-caniklioglu/Python/blob/main/factorial_lenght.ipynb\" target=\"_parent\"><img src=\"https://colab.research.google.com/assets/colab-badge.svg\" alt=\"Open In Colab\"/></a>"
      ]
    },
    {
      "cell_type": "markdown",
      "source": [
        "In this Kata, you will implement a function count that takes an integer and returns the number of digits in factorial(n).\n",
        "\n",
        "For example, count(5) = 3, because 5! = 120, and 120 has 3 digits.\n",
        "\n",
        "More examples in the test cases.\n",
        "\n",
        "Brute force is not possible. A little research will go a long way, as this is a well known series.\n",
        "\n",
        "Good luck!\n",
        "\n",
        "Please also try:"
      ],
      "metadata": {
        "id": "Gd5j2cssYFTR"
      }
    },
    {
      "cell_type": "code",
      "source": [
        "def count(n):\n",
        "    m = 1\n",
        "    for i in range(1,n+1):\n",
        "        m *= i\n",
        "    return len(str(m))\n",
        "count(5)"
      ],
      "metadata": {
        "colab": {
          "base_uri": "https://localhost:8080/"
        },
        "id": "tqnQjvGMYLN7",
        "outputId": "3829fdd6-379f-4b1f-f385-2cecb1cf5e6d"
      },
      "execution_count": 3,
      "outputs": [
        {
          "output_type": "execute_result",
          "data": {
            "text/plain": [
              "3"
            ]
          },
          "metadata": {},
          "execution_count": 3
        }
      ]
    }
  ]
}