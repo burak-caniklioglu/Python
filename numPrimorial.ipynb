{
 "cells": [
  {
   "cell_type": "markdown",
   "metadata": {},
   "source": [
    "1- numPrimorial (3) ==> return (30)\n",
    "Explanation:\n",
    "Since the passed number is (3) ,Then the primorial should obtained by multiplying 2 * 3 * 5 = 30 .\n",
    "\n",
    "Mathematically written as , P3# = 30 ."
   ]
  },
  {
   "cell_type": "code",
   "execution_count": 14,
   "metadata": {},
   "outputs": [
    {
     "data": {
      "text/plain": [
       "2310"
      ]
     },
     "execution_count": 14,
     "metadata": {},
     "output_type": "execute_result"
    }
   ],
   "source": [
    "def numPrimorial(x) :\n",
    "    a = []\n",
    "    i = 2\n",
    "    while len(a) < x:\n",
    "        for num in a:\n",
    "            if i % num == 0:\n",
    "                break\n",
    "        else:\n",
    "            a.append(i)\n",
    "        i += 1\n",
    "    m = 1   \n",
    "    for val in a:\n",
    "        m *= val\n",
    "    return m\n",
    "    \n",
    "numPrimorial(5)"
   ]
  }
 ],
 "metadata": {
  "interpreter": {
   "hash": "42b42069cbbf0a6319a26f91c3d8a98d7fbd1c788cb6a50cdce8d66031b17e46"
  },
  "kernelspec": {
   "display_name": "Python 3.9.2rc1 64-bit (system)",
   "language": "python",
   "name": "python3"
  },
  "language_info": {
   "codemirror_mode": {
    "name": "ipython",
    "version": 3
   },
   "file_extension": ".py",
   "mimetype": "text/x-python",
   "name": "python",
   "nbconvert_exporter": "python",
   "pygments_lexer": "ipython3",
   "version": "3.9.2rc1"
  },
  "orig_nbformat": 4
 },
 "nbformat": 4,
 "nbformat_minor": 2
}
